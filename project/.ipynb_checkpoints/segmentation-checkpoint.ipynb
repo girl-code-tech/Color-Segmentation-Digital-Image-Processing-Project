{
 "cells": [
  {
   "cell_type": "markdown",
   "metadata": {},
   "source": [
    "## Segmentation\n",
    "Segmentation is the low-level operation concerned with partitioning images by determining disjoint and homogeneous regions or, equivalently, by finding edges or boundaries. The homogeneous regions, or the edges, are supposed to correspond to actual objects, or parts of them, within the images. Thus, in a large number of applications in image processing and computer vision,\n",
    "segmentation plays a fundamental role as the first step before applying to images higher-level operations such as recognition, semantic interpretation, and representation. Until very recently, attention has been focused on segmentation of gray-level images since these have been the only kind of visual information that acquisition devices were able to take and computer resources to hand le. Nowadays, color imagery has definitely supplanted monochromatic information and computation power is no longer a limitation in processing large volumes of ddata. The attention has accordingly been focused in recent years on algorithms for segmentation of color images and various techniques, ofted borrowed from the background of gray-level image segmentation, have been proposed. This project segments object based on the color spaces.\n",
    "### Color Spaces\n",
    "In the most common color space, RGB (Red Green Blue), colors are represented in terms of their red, green, and blue components. In more technical terms, RGB describes a color as a tuple of three components. Each component can take a value between 0 and 255, where the tuple (0, 0, 0) represents black and (255, 255, 255) represents white.\n",
    "\n",
    "RGB is considered an “additive” color space, and colors can be imagined as being produced from shining quantities of red, blue, and green light onto a black background.\n",
    "\n",
    "Here are a few more examples of colors in RGB:\n",
    "\n",
    "Color\tRGB value\n",
    "Red\t255, 0, 0\n",
    "Orange\t255, 128, 0\n",
    "Pink\t255, 153, 255\n",
    "RGB is one of the five major color space models, each of which has many offshoots. There are so many color spaces because different color spaces are useful for different purposes.\n",
    "\n",
    "In the printing world, CMYK is useful because it describes the color combinations required to produce a color from a white background. While the 0 tuple in RGB is black, in CMYK the 0 tuple is white. Our printers contain ink canisters of cyan, magenta, yellow, and black.\n",
    "\n",
    "In certain types of medical fields, glass slides mounted with stained tissue samples are scanned and saved as images. They can be analyzed in HED space, a representation of the saturations of the stain types—hematoxylin, eosin, and DAB—applied to the original tissue.\n",
    "\n",
    "HSV and HSL are descriptions of hue, saturation, and brightness/luminance, which are particularly useful for identifying contrast in images. These color spaces are frequently used in color selection tools in software and for web design.\n",
    "\n",
    "In reality, color is a continuous phenomenon, meaning that there are an infinite number of colors. Color spaces, however, represent color through discrete structures (a fixed number of whole number integer values), which is acceptable since the human eye and perception are also limited. Color spaces are fully able to represent all the colors we are able to distinguish between."
   ]
  },
  {
   "cell_type": "code",
   "execution_count": 50,
   "metadata": {},
   "outputs": [],
   "source": [
    "import cv2\n",
    "import numpy as np\n",
    "cap = cv2.VideoCapture(\"download.mp4\")\n",
    "\n",
    "while(True):\n",
    "    # Capture frame-by-frame\n",
    "    ret, frame = cap.read()\n",
    "    img_rgb = cv2.cvtColor(frame, cv2.COLOR_BGR2RGB)\n",
    "    b,g,r = cv2.split(img_rgb)\n",
    "    rg = r - g\n",
    "    rb = r - b\n",
    "    rg = np.clip(rg, 0, 255)\n",
    "    rb = np.clip(rb, 0, 255)\n",
    "    \n",
    "    mask1 = cv2.inRange(rg, 50, 255)\n",
    "    mask2 = cv2.inRange(rb, 50, 255)\n",
    "    mask = cv2.bitwise_and(mask1, mask2)\n",
    "    croped = cv2.bitwise_and(frame, frame, mask=mask)\n",
    "    #print(croped)\n",
    "    #new_frame=frame-result\n",
    "        # Display the resulting frame\n",
    "    cv2.imshow('actual_frame', frame)\n",
    "    cv2.imshow('new_frame',croped)\n",
    "    if cv2.waitKey(1) & 0xFF == ord('q'):\n",
    "        break\n",
    "\n",
    "'''## Gen lower mask (0-5) and upper mask (175-180) of RED\n",
    "mask1 = cv2.inRange(img_hsv, (0,50,20), (5,255,255))\n",
    "mask2 = cv2.inRange(img_hsv, (175,50,20), (180,255,255))\n",
    "\n",
    "## Merge the mask and crop the red regions\n",
    "mask = cv2.bitwise_or(mask1, mask2 )'''\n",
    "   \n",
    "\n",
    "# When everything done, release the capture\n",
    "cap.release()\n",
    "cv2.destroyAllWindows()"
   ]
  },
  {
   "cell_type": "code",
   "execution_count": 51,
   "metadata": {},
   "outputs": [
    {
     "data": {
      "text/plain": [
       "<function destroyAllWindows>"
      ]
     },
     "execution_count": 51,
     "metadata": {},
     "output_type": "execute_result"
    }
   ],
   "source": [
    "import cv2\n",
    "import numpy as np\n",
    "\n",
    "# convert an image to an array\n",
    "image = cv2.imread(\"red2.png\")\n",
    "\n",
    "#lower and upper limits of the desired color (red)\n",
    "lower_range = np.array([0,0,200])\n",
    "upper_range = np.array([10,10,255])\n",
    "\n",
    "#create a mask using ranges\n",
    "mask = cv2.inRange(image, lower_range, upper_range)\n",
    "\n",
    "#segment mask area in the original image\n",
    "result = cv2.bitwise_and(image, image, mask=mask)\n",
    "\n",
    "#show original image, mask and segmented image\n",
    "cv2.imshow(\"image\", image)\n",
    "cv2.imshow(\"mask\", mask)\n",
    "new_img=image-result\n",
    "cv2.imshow(\"result\", new_img)\n",
    "\n",
    "#end of script (wait a key press and close all windows)\n",
    "cv2.waitKey(0)\n",
    "cv2.destroyAllWindows"
   ]
  },
  {
   "cell_type": "code",
   "execution_count": null,
   "metadata": {},
   "outputs": [],
   "source": [
    "import cv2\n",
    "import numpy as np\n",
    "cap = cv2.VideoCapture(\"download.mp4\")\n",
    "\n",
    "while(True):\n",
    "    # Capture frame-by-frame\n",
    "    ret, frame = cap.read()\n",
    "    '''image = cv2.cvtColor(image, cv2.COLOR_BGR2HSV)\n",
    "    lower_range = np.array([0,0,200])\n",
    "    upper_range = np.array([10,10,255])\n",
    "\n",
    "    #create a mask using ranges\n",
    "    mask = cv2.inRange(frame, lower_range, upper_range)\n",
    "\n",
    "    #segment mask area in the original image\n",
    "    result = cv2.bitwise_and(frame, frame, mask=mask)'''\n",
    "\n",
    "\n",
    "    ## Gen lower mask (0-5) and upper mask (175-180) of RED\n",
    "    mask1 = cv2.inRange(img_hsv, (0,50,20), (5,255,255))\n",
    "    mask2 = cv2.inRange(img_hsv, (175,50,20), (180,255,255))\n",
    "\n",
    "    ## Merge the mask and crop the red regions\n",
    "    mask = cv2.bitwise_or(mask1, mask2 )\n",
    "   \n",
    "    new_frame=frame-result\n",
    "        # Display the resulting frame\n",
    "    cv2.imshow('actual_frame', frame)\n",
    "    cv2.imshow('new_frame',new_frame)\n",
    "    if cv2.waitKey(1) & 0xFF == ord('q'):\n",
    "        break\n",
    "\n",
    "# When everything done, release the capture\n",
    "cap.release()\n",
    "cv2.destroyAllWindows()\n"
   ]
  },
  {
   "cell_type": "code",
   "execution_count": 1,
   "metadata": {},
   "outputs": [],
   "source": [
    "import cv2\n",
    "import numpy as np\n",
    " \n",
    "image = cv2.imread('red2.png')\n",
    "cv2.imshow(\"Original\", image)\n",
    " \n",
    "result = image.copy()\n",
    " \n",
    "image = cv2.cvtColor(image, cv2.COLOR_BGR2HSV)\n",
    " \n",
    "# lower boundary RED color range values; Hue (0 - 10)\n",
    "lower1 = np.array([0, 100, 20])\n",
    "upper1 = np.array([10, 255, 255])\n",
    " \n",
    "# upper boundary RED color range values; Hue (160 - 180)\n",
    "lower2 = np.array([160,100,20])\n",
    "upper2 = np.array([179,255,255])\n",
    " \n",
    "lower_mask = cv2.inRange(image, lower1, upper1)\n",
    "upper_mask = cv2.inRange(image, lower2, upper2)\n",
    " \n",
    "full_mask = lower_mask + upper_mask;\n",
    " \n",
    "result = cv2.bitwise_and(result, result, mask=full_mask)\n",
    " \n",
    "\n",
    "new_img=image-result\n",
    "cv2.imshow(\"result\", result)\n",
    "\n",
    " \n",
    "cv2.waitKey(0)\n",
    "cv2.destroyAllWindows()\n"
   ]
  },
  {
   "cell_type": "code",
   "execution_count": 3,
   "metadata": {},
   "outputs": [
    {
     "ename": "ValueError",
     "evalue": "operands could not be broadcast together with shapes (183,275,3) (183,275) ",
     "output_type": "error",
     "traceback": [
      "\u001b[1;31m---------------------------------------------------------------------------\u001b[0m",
      "\u001b[1;31mValueError\u001b[0m                                Traceback (most recent call last)",
      "\u001b[1;32m<ipython-input-3-9f408e2a7a11>\u001b[0m in \u001b[0;36m<module>\u001b[1;34m\u001b[0m\n\u001b[0;32m     14\u001b[0m \u001b[1;31m# Threshold the HSV image using inRange function to get only red colors\u001b[0m\u001b[1;33m\u001b[0m\u001b[1;33m\u001b[0m\u001b[1;33m\u001b[0m\u001b[0m\n\u001b[0;32m     15\u001b[0m \u001b[0mmask\u001b[0m \u001b[1;33m=\u001b[0m \u001b[0mcv2\u001b[0m\u001b[1;33m.\u001b[0m\u001b[0minRange\u001b[0m\u001b[1;33m(\u001b[0m\u001b[0mhsv\u001b[0m\u001b[1;33m,\u001b[0m \u001b[0mlower_red\u001b[0m\u001b[1;33m,\u001b[0m \u001b[0mupper_red\u001b[0m\u001b[1;33m)\u001b[0m\u001b[1;33m\u001b[0m\u001b[1;33m\u001b[0m\u001b[0m\n\u001b[1;32m---> 16\u001b[1;33m \u001b[0mnew_img\u001b[0m\u001b[1;33m=\u001b[0m\u001b[0mimage\u001b[0m\u001b[1;33m-\u001b[0m\u001b[0mmask\u001b[0m\u001b[1;33m\u001b[0m\u001b[1;33m\u001b[0m\u001b[0m\n\u001b[0m\u001b[0;32m     17\u001b[0m \u001b[1;33m\u001b[0m\u001b[0m\n\u001b[0;32m     18\u001b[0m \u001b[0mplt\u001b[0m\u001b[1;33m.\u001b[0m\u001b[0mfigure\u001b[0m\u001b[1;33m(\u001b[0m\u001b[0mfigsize\u001b[0m\u001b[1;33m=\u001b[0m\u001b[1;33m[\u001b[0m\u001b[1;36m13\u001b[0m\u001b[1;33m,\u001b[0m\u001b[1;36m13\u001b[0m\u001b[1;33m]\u001b[0m\u001b[1;33m)\u001b[0m\u001b[1;33m\u001b[0m\u001b[1;33m\u001b[0m\u001b[0m\n",
      "\u001b[1;31mValueError\u001b[0m: operands could not be broadcast together with shapes (183,275,3) (183,275) "
     ]
    }
   ],
   "source": [
    "import cv2\n",
    "import matplotlib.pyplot as plt\n",
    "import numpy as np\n",
    " \n",
    "image = cv2.imread('red.png')\n",
    " \n",
    "# Converting the image to hsv\n",
    "hsv = cv2.cvtColor(image, cv2.COLOR_BGR2HSV)\n",
    " \n",
    "# define range of red color in HSV\n",
    "lower_red = np.array([160,50,50])\n",
    "upper_red = np.array([180,255,255])\n",
    "     \n",
    "# Threshold the HSV image using inRange function to get only red colors\n",
    "mask = cv2.inRange(hsv, lower_red, upper_red)\n",
    "new_img=image-mask\n",
    " \n",
    "plt.figure(figsize=[13,13])\n",
    "plt.subplot(121);plt.imshow(image[:,:,::-1]);plt.title(\"Original Image\",fontdict={'fontsize': 25});plt.axis('off');\n",
    "plt.subplot(122);plt.imshow(new_img, cmap='gray');plt.title(\"Mask of red Color\",fontdict={'fontsize': 25});plt.axis('off');"
   ]
  },
  {
   "cell_type": "code",
   "execution_count": 4,
   "metadata": {},
   "outputs": [
    {
     "data": {
      "image/png": "[encoded data removed]",
      "text/plain": [
       "<Figure size 936x936 with 1 Axes>"
      ]
     },
     "metadata": {
      "needs_background": "light"
     },
     "output_type": "display_data"
    }
   ],
   "source": [
    "res = cv2.bitwise_and(image,image, mask= mask)\n",
    "plt.figure(figsize=[13,13])\n",
    "plt.imshow(res[:,:,::-1]);plt.title(\"Red part of the Image\",fontdict={'fontsize':35});plt.axis('off');\n"
   ]
  },
  {
   "cell_type": "code",
   "execution_count": null,
   "metadata": {},
   "outputs": [],
   "source": [
    "import cv2\n",
    "import matplotlib.pyplot as plt\n",
    "import numpy as np\n",
    " \n",
    "cap = cv2.VideoCapture(0)\n",
    " \n",
    "while(1):\n",
    " \n",
    "    # Take each frame\n",
    "    _, frame = cap.read()\n",
    " \n",
    "    # Convert BGR to HSV\n",
    "    hsv = cv2.cvtColor(frame, cv2.COLOR_BGR2HSV)\n",
    " \n",
    "    # define range of red color in HSV\n",
    "    lower_red = np.array([160,50,50])\n",
    "    upper_red = np.array([180,255,255])  \n",
    " \n",
    "    #Threshold the HSV image to get only red colors\n",
    "    mask = cv2.inRange(hsv, lower_red, upper_red)\n",
    " \n",
    "    # Bitwise-AND mask and original image\n",
    "    res = cv2.bitwise_and(frame,frame, mask= mask)\n",
    " \n",
    "    # we are just adding 2 more channels on the mask so we can stack it along other images\n",
    "    mask_3 = cv2.cvtColor(mask, cv2.COLOR_GRAY2BGR)\n",
    " \n",
    "    # stacking up all three images together\n",
    "    stacked = np.hstack((mask_3,frame,res))\n",
    "     \n",
    "    cv2.imshow('Result',cv2.resize(stacked,None,fx=0.8,fy=0.8))\n",
    "    k = cv2.waitKey(1) & 0xFF\n",
    "    if k == 27:\n",
    "        break\n",
    " \n",
    "cv2.destroyAllWindows()\n",
    "cap.release()"
   ]
  },
  {
   "cell_type": "code",
   "execution_count": 3,
   "metadata": {},
   "outputs": [
    {
     "data": {
      "text/plain": [
       "113"
      ]
     },
     "execution_count": 3,
     "metadata": {},
     "output_type": "execute_result"
    }
   ],
   "source": [
    "import cv2\n",
    "import numpy as np\n",
    "## Read and merge\n",
    "img = cv2.imread(\"colors.jpg\")\n",
    "img_rgb = cv2.cvtColor(img, cv2.COLOR_BGR2RGB)\n",
    "b,g,r = cv2.split(img_rgb)\n",
    "rg = r - g\n",
    "rb = r - b\n",
    "rg = np.clip(rg, 0, 255)\n",
    "rb = np.clip(rb, 0, 255)\n",
    "\n",
    "mask1 = cv2.inRange(rg, 50, 255)\n",
    "mask2 = cv2.inRange(rb, 50, 255)\n",
    "mask = cv2.bitwise_and(mask1, mask2)\n",
    "\n",
    "'''## Gen lower mask (0-5) and upper mask (175-180) of RED\n",
    "mask1 = cv2.inRange(img_hsv, (0,50,20), (5,255,255))\n",
    "mask2 = cv2.inRange(img_hsv, (175,50,20), (180,255,255))\n",
    "\n",
    "## Merge the mask and crop the red regions\n",
    "mask = cv2.bitwise_or(mask1, mask2 )'''\n",
    "croped = cv2.bitwise_and(img, img, mask=mask)\n",
    "\n",
    "## Display\n",
    "cv2.imshow('Actual', img)\n",
    "cv2.imshow(\"mask\", mask)\n",
    "cv2.imshow(\"croped\", croped)\n",
    "cv2.waitKey()\n"
   ]
  },
  {
   "cell_type": "code",
   "execution_count": 19,
   "metadata": {},
   "outputs": [
    {
     "data": {
      "text/plain": [
       "<matplotlib.image.AxesImage at 0x1a625b4ea00>"
      ]
     },
     "execution_count": 19,
     "metadata": {},
     "output_type": "execute_result"
    },
    {
     "data": {
      "image/png": "[encoded data removed]",
      "text/plain": [
       "<Figure size 432x288 with 1 Axes>"
      ]
     },
     "metadata": {
      "needs_background": "light"
     },
     "output_type": "display_data"
    }
   ],
   "source": [
    "from matplotlib import pyplot as plt\n",
    "img=cv2.imread(\"colors.jpg\")\n",
    "\n",
    "for i in range(800):\n",
    "    for j in range(800):\n",
    "        img[i][j]=160\n",
    "\n",
    "plt.imshow(img)"
   ]
  },
  {
   "cell_type": "code",
   "execution_count": 20,
   "metadata": {},
   "outputs": [
    {
     "data": {
      "text/plain": [
       "-1"
      ]
     },
     "execution_count": 20,
     "metadata": {},
     "output_type": "execute_result"
    }
   ],
   "source": [
    "import numpy as np\n",
    "import cv2\n",
    "\n",
    "# load image and set the bounds\n",
    "img = cv2.imread(\"red1.png\")\n",
    "lower =(255, 55, 0) # lower bound for each channel\n",
    "upper = (255, 255, 10) # upper bound for each channel\n",
    "\n",
    "# create the mask and use it to change the colors\n",
    "mask = cv2.inRange(img, lower, upper)\n",
    "img[mask != 0] = [0,0,255]\n",
    "\n",
    "# display it\n",
    "cv2.imshow(\"frame\", img)\n",
    "cv2.waitKey(0)"
   ]
  },
  {
   "cell_type": "code",
   "execution_count": 23,
   "metadata": {},
   "outputs": [
    {
     "data": {
      "text/plain": [
       "<matplotlib.image.AxesImage at 0x1a628583fa0>"
      ]
     },
     "execution_count": 23,
     "metadata": {},
     "output_type": "execute_result"
    },
    {
     "data": {
      "image/png": "[encoded data removed]",
      "text/plain": [
       "<Figure size 432x288 with 1 Axes>"
      ]
     },
     "metadata": {
      "needs_background": "light"
     },
     "output_type": "display_data"
    }
   ],
   "source": [
    "img=cv2.imread(\"red.png\")\n",
    "img_hsv=cv2.cvtColor(img, cv2.COLOR_BGR2HSV)\n",
    "\n",
    "# lower mask (0-10)\n",
    "lower_red = np.array([0,50,50])\n",
    "upper_red = np.array([10,255,255])\n",
    "mask0 = cv2.inRange(img_hsv, lower_red, upper_red)\n",
    "\n",
    "# upper mask (170-180)\n",
    "lower_red = np.array([170,50,50])\n",
    "upper_red = np.array([180,255,255])\n",
    "mask1 = cv2.inRange(img_hsv, lower_red, upper_red)\n",
    "\n",
    "# join my masks\n",
    "mask = mask0+mask1\n",
    "\n",
    "# set my output img to zero everywhere except my mask\n",
    "output_img = img.copy()\n",
    "output_img[np.where(mask==0)] = 0\n",
    "\n",
    "# or your HSV image, which I *believe* is what you want\n",
    "output_hsv = img_hsv.copy()\n",
    "output_hsv[np.where(mask==0)] = 0\n",
    "plt.imshow(img-output_hsv)"
   ]
  },
  {
   "cell_type": "code",
   "execution_count": 47,
   "metadata": {},
   "outputs": [
    {
     "data": {
      "image/png": "[encoded data removed]",
      "text/plain": [
       "<Figure size 432x288 with 2 Axes>"
      ]
     },
     "metadata": {
      "needs_background": "light"
     },
     "output_type": "display_data"
    }
   ],
   "source": [
    "#blurring and smoothin\n",
    "img1=cv2.imread('colors.jpg')\n",
    "\n",
    "hsv = cv2.cvtColor(img1,cv2.COLOR_BGR2HSV)\n",
    "\n",
    "#lower red\n",
    "lower_red = np.array([0,50,50])\n",
    "upper_red = np.array([10,255,255])\n",
    "\n",
    "\n",
    "#upper red\n",
    "lower_red2 = np.array([170,50,50])\n",
    "upper_red2 = np.array([180,255,255])\n",
    "\n",
    "mask = cv2.inRange(hsv, lower_red, upper_red)\n",
    "res = cv2.bitwise_and(img1,img1, mask= mask)\n",
    "\n",
    "\n",
    "mask2 = cv2.inRange(hsv, lower_red2, upper_red2)\n",
    "res2 = cv2.bitwise_and(img1,img1, mask= mask2)\n",
    "\n",
    "img3 = res+res2\n",
    "img4 = cv2.add(res,res2)\n",
    "img5 = cv2.addWeighted(res,0.5,res2,0.5,0)\n",
    "\n",
    "\n",
    "kernel = np.ones((15,15),np.float32)/225\n",
    "smoothed = cv2.filter2D(res,-1,kernel)\n",
    "smoothed2 = cv2.filter2D(img3,-1,kernel)\n",
    "\n",
    "\n",
    "\n",
    "\n",
    "'''\n",
    "cv2.imshow('Original',img1)\n",
    "cv2.imshow('Averaging',smoothed)\n",
    "cv2.imshow('mask',mask)\n",
    "cv2.imshow('res',res)\n",
    "cv2.imshow('mask2',mask2)\n",
    "cv2.imshow('res2',res2)\n",
    "cv2.imshow('res3',img3)\n",
    "cv2.imshow('res4',img4)\n",
    "cv2.imshow('res5',img5)\n",
    "cv2.imshow('smooth2',smoothed2)\n",
    "'''\n",
    "plt.subplot(122)\n",
    "plt.imshow(img1-img4)\n",
    "plt.subplot(121)\n",
    "plt.imshow(img1)\n",
    "\n",
    "cv2.waitKey(0)\n",
    "cv2.destroyAllWindows()"
   ]
  },
  {
   "cell_type": "code",
   "execution_count": 48,
   "metadata": {},
   "outputs": [
    {
     "ename": "error",
     "evalue": "OpenCV(4.5.2) :-1: error: (-5:Bad argument) in function 'imshow'\n> Overload resolution failed:\n>  - imshow() missing required argument 'mat' (pos 2)\n>  - imshow() missing required argument 'mat' (pos 2)\n>  - imshow() missing required argument 'mat' (pos 2)\n",
     "output_type": "error",
     "traceback": [
      "\u001b[1;31m---------------------------------------------------------------------------\u001b[0m",
      "\u001b[1;31merror\u001b[0m                                     Traceback (most recent call last)",
      "\u001b[1;32m<ipython-input-48-969fc58d7bc7>\u001b[0m in \u001b[0;36m<module>\u001b[1;34m\u001b[0m\n\u001b[0;32m     50\u001b[0m     \u001b[0mcv2\u001b[0m\u001b[1;33m.\u001b[0m\u001b[0mimshow\u001b[0m\u001b[1;33m(\u001b[0m\u001b[1;34m'smooth2'\u001b[0m\u001b[1;33m,\u001b[0m\u001b[0msmoothed2\u001b[0m\u001b[1;33m)\u001b[0m\u001b[1;33m\u001b[0m\u001b[1;33m\u001b[0m\u001b[0m\n\u001b[0;32m     51\u001b[0m     '''\n\u001b[1;32m---> 52\u001b[1;33m     \u001b[0mcv2\u001b[0m\u001b[1;33m.\u001b[0m\u001b[0mimshow\u001b[0m\u001b[1;33m(\u001b[0m\u001b[0mimg1\u001b[0m\u001b[1;33m)\u001b[0m\u001b[1;33m\u001b[0m\u001b[1;33m\u001b[0m\u001b[0m\n\u001b[0m\u001b[0;32m     53\u001b[0m     \u001b[0mcv2\u001b[0m\u001b[1;33m.\u001b[0m\u001b[0mimshow\u001b[0m\u001b[1;33m(\u001b[0m\u001b[0mimg1\u001b[0m\u001b[1;33m-\u001b[0m\u001b[0mimg4\u001b[0m\u001b[1;33m)\u001b[0m\u001b[1;33m\u001b[0m\u001b[1;33m\u001b[0m\u001b[0m\n\u001b[0;32m     54\u001b[0m \u001b[1;33m\u001b[0m\u001b[0m\n",
      "\u001b[1;31merror\u001b[0m: OpenCV(4.5.2) :-1: error: (-5:Bad argument) in function 'imshow'\n> Overload resolution failed:\n>  - imshow() missing required argument 'mat' (pos 2)\n>  - imshow() missing required argument 'mat' (pos 2)\n>  - imshow() missing required argument 'mat' (pos 2)\n"
     ]
    }
   ],
   "source": [
    "import cv2\n",
    "import numpy as np\n",
    "cap = cv2.VideoCapture(\"download.mp4\")\n",
    "\n",
    "while(True):\n",
    "    # Capture frame-by-frame\n",
    "    ret, img1 = cap.read()\n",
    "    \n",
    "\n",
    "    hsv = cv2.cvtColor(img1,cv2.COLOR_BGR2HSV)\n",
    "\n",
    "    #lower red\n",
    "    lower_red = np.array([0,50,50])\n",
    "    upper_red = np.array([10,255,255])\n",
    "\n",
    "\n",
    "    #upper red\n",
    "    lower_red2 = np.array([170,50,50])\n",
    "    upper_red2 = np.array([180,255,255])\n",
    "\n",
    "    mask = cv2.inRange(hsv, lower_red, upper_red)\n",
    "    res = cv2.bitwise_and(img1,img1, mask= mask)\n",
    "\n",
    "\n",
    "    mask2 = cv2.inRange(hsv, lower_red2, upper_red2)\n",
    "    res2 = cv2.bitwise_and(img1,img1, mask= mask2)\n",
    "\n",
    "    img3 = res+res2\n",
    "    img4 = cv2.add(res,res2)\n",
    "    img5 = cv2.addWeighted(res,0.5,res2,0.5,0)\n",
    "\n",
    "\n",
    "    kernel = np.ones((15,15),np.float32)/225\n",
    "    smoothed = cv2.filter2D(res,-1,kernel)\n",
    "    smoothed2 = cv2.filter2D(img3,-1,kernel)\n",
    "\n",
    "\n",
    "\n",
    "\n",
    "    '''\n",
    "    cv2.imshow('Original',img1)\n",
    "    cv2.imshow('Averaging',smoothed)\n",
    "    cv2.imshow('mask',mask)\n",
    "    cv2.imshow('res',res)\n",
    "    cv2.imshow('mask2',mask2)\n",
    "    cv2.imshow('res2',res2)\n",
    "    cv2.imshow('res3',img3)\n",
    "    cv2.imshow('res4',img4)\n",
    "    cv2.imshow('res5',img5)\n",
    "    cv2.imshow('smooth2',smoothed2)\n",
    "    '''\n",
    "    cv2.imshow(img1)\n",
    "    cv2.imshow(img1-img4)\n",
    "    \n",
    "    \n",
    "    \n",
    "    \n",
    "# When everything done, release the capture\n",
    "cap.release()\n",
    "cv2.destroyAllWindows()"
   ]
  },
  {
   "cell_type": "code",
   "execution_count": null,
   "metadata": {},
   "outputs": [],
   "source": []
  }
 ],
 "metadata": {
  "kernelspec": {
   "display_name": "Python 3",
   "language": "python",
   "name": "python3"
  },
  "language_info": {
   "codemirror_mode": {
    "name": "ipython",
    "version": 3
   },
   "file_extension": ".py",
   "mimetype": "text/x-python",
   "name": "python",
   "nbconvert_exporter": "python",
   "pygments_lexer": "ipython3",
   "version": "3.8.5"
  }
 },
 "nbformat": 4,
 "nbformat_minor": 4
}
