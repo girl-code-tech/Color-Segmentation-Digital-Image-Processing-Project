{
 "cells": [
  {
   "cell_type": "code",
   "execution_count": null,
   "metadata": {},
   "outputs": [],
   "source": [
    "import cv2\n",
    "import numpy as np\n",
    "\n",
    "# convert an image to an array\n",
    "image = cv2.imread(\"colors.jpg\")\n",
    "\n",
    "#lower and upper limits of the desired color (red)\n",
    "lower_range = np.array([0,0,200])\n",
    "upper_range = np.array([10,10,255])\n",
    "\n",
    "#create a mask using ranges\n",
    "mask = cv2.inRange(image, lower_range, upper_range)\n",
    "\n",
    "#segment mask area in the original image\n",
    "result = cv2.bitwise_and(image, image, mask=mask)\n",
    "\n",
    "#show original image, mask and segmented image\n",
    "cv2.imshow(\"image\", image)\n",
    "cv2.imshow(\"mask\", mask)\n",
    "cv2.imshow(\"result\", result)\n",
    "\n",
    "#end of script (wait a key press and close all windows)\n",
    "cv2.waitKey(0)\n",
    "cv2.destroyAllWindows"
   ]
  },
  {
   "cell_type": "code",
   "execution_count": null,
   "metadata": {},
   "outputs": [],
   "source": []
  }
 ],
 "metadata": {
  "kernelspec": {
   "display_name": "Python 3",
   "language": "python",
   "name": "python3"
  },
  "language_info": {
   "codemirror_mode": {
    "name": "ipython",
    "version": 3
   },
   "file_extension": ".py",
   "mimetype": "text/x-python",
   "name": "python",
   "nbconvert_exporter": "python",
   "pygments_lexer": "ipython3",
   "version": "3.8.5"
  }
 },
 "nbformat": 4,
 "nbformat_minor": 4
}
